{
 "cells": [
  {
   "cell_type": "code",
   "execution_count": null,
   "metadata": {},
   "outputs": [],
   "source": [
    "# read in P100 Excel spreadsheet and determine jobs that extend several days\n",
    "# Method: for ease of i/o in and out of the dataframe, make an adjacent dataframe to \n",
    "# hold 'new' records for jobs that are multiday and append as we go, multirecords created\n",
    "# as needed for date accounting - basically so that using start_date as the record to track the day or day(s) \n",
    "# that a job ran."
   ]
  },
  {
   "cell_type": "code",
   "execution_count": null,
   "metadata": {},
   "outputs": [],
   "source": [
    "import pandas as pd\n",
    "import numpy as np\n",
    "import math\n",
    "import bokeh\n",
    "from bokeh.core.properties import Enum \n",
    "from bokeh.plotting import figure, ColumnDataSource, show \n",
    "from bokeh.models import ColumnDataSource, HoverTool\n",
    "import datetime\n",
    "from datetime import timedelta"
   ]
  },
  {
   "cell_type": "code",
   "execution_count": null,
   "metadata": {},
   "outputs": [],
   "source": [
    "# Read in an abbreviated version of Mike's spreadsheet.  NOTE a few headers have been edited/added from the original\n",
    "# spreadsheet.  This is the only 'hardcoded' line pointing to a file.\n",
    "\n",
    "# optional var to set num rows to read \n",
    "#numrows = 2000\n",
    "\n",
    "P100data = pd.read_excel('/Users/cyndy/Documents/HPCstats/USEME_P100.xlsx', \n",
    "                   sheet_name=('P100'), \n",
    "                   usecols=['user','group', 'session', 'start', 'end', 'startdate', 'enddate', 'start_date', \n",
    "                  'end_date', 'days', 'hours', 'ncpus'], \n",
    "                   converters = {'start':pd.to_numeric, 'end':pd.to_numeric, 'startdate':pd.to_datetime})"
   ]
  },
  {
   "cell_type": "code",
   "execution_count": null,
   "metadata": {},
   "outputs": [],
   "source": [
    "numrecords = P100data.shape[0]\n",
    "print(numrecords)"
   ]
  },
  {
   "cell_type": "code",
   "execution_count": null,
   "metadata": {},
   "outputs": [],
   "source": [
    "# let's convert ncpus NOW\n",
    "P100data.ncpus = P100data.ncpus/28"
   ]
  },
  {
   "cell_type": "code",
   "execution_count": null,
   "metadata": {},
   "outputs": [],
   "source": [
    "counter = 0\n",
    "newcounter = 0\n",
    "P100new = pd.DataFrame(P100data[0:1])  # just to get something in here to initialize the new dataframe\n",
    "print (P100data.hours)"
   ]
  },
  {
   "cell_type": "code",
   "execution_count": null,
   "metadata": {},
   "outputs": [],
   "source": [
    "print(P100data.ncpus.max())"
   ]
  },
  {
   "cell_type": "code",
   "execution_count": null,
   "metadata": {},
   "outputs": [],
   "source": [
    "while counter < numrecords:\n",
    "    # the below is to ignore all '0 day' records from original spreadsheet\n",
    "    #if (P100data.iloc[counter,9] == 0):\n",
    "     #   P100data.iloc[counter,11] = 0\n",
    "    thisRecord = P100data[counter:(counter+1)]  \n",
    "    numhours = P100data.iloc[counter,10]\n",
    "    # number of days is plain simple to calc using the seconds fields, vs the datatime stuff we do next\n",
    "    #there are 86400 seconds in a day ; get days using (end-start)/seconds in a day    \n",
    "    thisRecordNumDays = math.ceil((thisRecord.end - thisRecord.start) / 86400)\n",
    "    \n",
    "    if (thisRecordNumDays > 1):        \n",
    "       \n",
    "        #numhours = thisRecord.loc['hours']\n",
    "        print(\"hours are \")\n",
    "        print(numhours)\n",
    "        # NOW decrement original record num hours \n",
    "        P100data.iloc[counter, 10] = 24\n",
    "        # this is now the 'rest' of the hours of the job\n",
    "        numhours = float(numhours - 24)\n",
    "        print(\"hours are \")\n",
    "        print(numhours)\n",
    "        # how many more days than 1 day - aka, how many records to add for this instance of a multiday record?\n",
    "        for i in range(1,(thisRecordNumDays)):\n",
    "            dateAndTime = str(thisRecord.startdate)\n",
    "            #print(dateAndTime)\n",
    "            listDateTime = dateAndTime.split()\n",
    "            startdatadate = datetime.date.fromisoformat(listDateTime[1])\n",
    "            startdatatime = datetime.time.fromisoformat(listDateTime[2])\n",
    "            isodatetime = datetime.datetime.combine(startdatadate, startdatatime)\n",
    "            nextdate = (isodatetime + timedelta(days=i))             \n",
    "            #print(nextdate.date)\n",
    "            dateString = nextdate.strftime(\"%m/%d/%Y\")\n",
    "            # we now can create our new record for the extra dataframe\n",
    "            P100new.loc[newcounter] = P100data.iloc[counter]\n",
    "            # change the date of the added record\n",
    "            P100new.iloc[newcounter, 7] = dateString\n",
    "            if (float(numhours) > 24.0):\n",
    "                P100new.iloc[newcounter,10] = 24\n",
    "                numhours = float(numhours - 24)\n",
    "            else:\n",
    "                #print(\"hours are \")\n",
    "                #print(numhours)\n",
    "                P100new.iloc[newcounter,10] = (numhours)\n",
    "            \n",
    "            newcounter = newcounter+1\n",
    "        print(P100new)        \n",
    "    counter = counter + 1\n",
    "    "
   ]
  },
  {
   "cell_type": "code",
   "execution_count": null,
   "metadata": {
    "scrolled": true
   },
   "outputs": [],
   "source": [
    "# ready to append the two dataframes \n",
    "P100alldata = P100data.append(P100new, ignore_index=True)"
   ]
  },
  {
   "cell_type": "code",
   "execution_count": null,
   "metadata": {},
   "outputs": [],
   "source": [
    "P100alldata.shape[0]\n",
    "print(P100alldata.shape[0])\n",
    "P100alldata.to_excel('HPC_stats_hoursdiv.xlsx', sheet_name='P100')"
   ]
  },
  {
   "cell_type": "code",
   "execution_count": null,
   "metadata": {},
   "outputs": [],
   "source": [
    "### !!! make ncpus be actually NCPU HOURS \n",
    "P100alldata['ncpus'] = P100alldata['ncpus']*P100alldata['hours']\n",
    "# group the data by the startdate and sum the number of ncpu hours\n",
    "gimmie = P100alldata.groupby('start_date')['ncpus'].sum()"
   ]
  },
  {
   "cell_type": "code",
   "execution_count": null,
   "metadata": {},
   "outputs": [],
   "source": [
    "print(gimmie)\n",
    "# these are now ncpu hours per date"
   ]
  },
  {
   "cell_type": "code",
   "execution_count": null,
   "metadata": {},
   "outputs": [],
   "source": [
    "print(gimmie.max())\n"
   ]
  },
  {
   "cell_type": "code",
   "execution_count": null,
   "metadata": {},
   "outputs": [],
   "source": [
    "gimmie.to_excel('gimmiencpuhours.xlsx', sheet_name='P100')"
   ]
  },
  {
   "cell_type": "code",
   "execution_count": null,
   "metadata": {},
   "outputs": [],
   "source": [
    "# convert these sums from hours of ncpus per day to ncpus per day\n",
    "gimmie = gimmie / 24\n",
    "# make this series a dataframe\n",
    "gimmiedf = gimmie.to_frame().reset_index()\n",
    "\n"
   ]
  },
  {
   "cell_type": "code",
   "execution_count": null,
   "metadata": {},
   "outputs": [],
   "source": [
    "#p = figure(plot_width=980, plot_height=720, x_axis_type='datetime', y_range=(0,50))\n"
   ]
  },
  {
   "cell_type": "code",
   "execution_count": null,
   "metadata": {},
   "outputs": [],
   "source": [
    "\n",
    "gimmiedates = [datetime.datetime.strptime(x, '%m/%d/%Y') for x in gimmiedf.start_date.astype(str)]\n",
    "gimmiedf.start_date = gimmiedates\n",
    "print(gimmiedf)\n"
   ]
  },
  {
   "cell_type": "code",
   "execution_count": null,
   "metadata": {},
   "outputs": [],
   "source": [
    "gimmiesort = gimmiedf.sort_values(by=['start_date'])\n",
    "print(gimmiesort)"
   ]
  },
  {
   "cell_type": "code",
   "execution_count": null,
   "metadata": {},
   "outputs": [],
   "source": [
    "x = gimmiesort['start_date']\n",
    "y = gimmiesort['ncpus']\n",
    "line = (x,y)\n"
   ]
  },
  {
   "cell_type": "code",
   "execution_count": null,
   "metadata": {},
   "outputs": [],
   "source": [
    "# Convert dataframe to column data source for hovertool\n",
    "\n",
    "src = ColumnDataSource(gimmiesort)\n",
    "src.data.keys()\n",
    "\n",
    "#dict_keys(['flights', 'left', 'right', 'index'])"
   ]
  },
  {
   "cell_type": "code",
   "execution_count": null,
   "metadata": {},
   "outputs": [],
   "source": [
    "\n",
    "#hover = HoverTool()\n",
    "\n",
    "p= figure(plot_width=980,\n",
    "          plot_height=720,\n",
    "          title=\"GPU Node Usage\",\n",
    "          y_range=(0,50),\n",
    "          x_axis_type=\"datetime\",   \n",
    "          #tools=[hover, 'tap','box_zoom','wheel_zoom','save','reset'],\n",
    "         )\n",
    "\n",
    "p.line(x=\"start_date\", y=\"ncpus\", source=src)"
   ]
  },
  {
   "cell_type": "code",
   "execution_count": null,
   "metadata": {},
   "outputs": [],
   "source": [
    "hover = HoverTool(tooltips = \n",
    "                  [('NCPUS', '@ncpus'),\n",
    "                 ('Date', '@start_date{%Y-%m-%d}')],                    \n",
    "                 formatters=\n",
    "                  { 'ncpus': 'printf',\n",
    "                      'start_date': 'datetime',\n",
    "                \n",
    "                  },)"
   ]
  },
  {
   "cell_type": "code",
   "execution_count": null,
   "metadata": {},
   "outputs": [],
   "source": [
    "# Add the hover tool to the graph\n",
    "p.add_tools(hover)"
   ]
  },
  {
   "cell_type": "code",
   "execution_count": null,
   "metadata": {},
   "outputs": [],
   "source": [
    "show(p)"
   ]
  },
  {
   "cell_type": "code",
   "execution_count": null,
   "metadata": {},
   "outputs": [],
   "source": []
  }
 ],
 "metadata": {
  "kernelspec": {
   "display_name": "Python 3",
   "language": "python",
   "name": "python3"
  },
  "language_info": {
   "codemirror_mode": {
    "name": "ipython",
    "version": 3
   },
   "file_extension": ".py",
   "mimetype": "text/x-python",
   "name": "python",
   "nbconvert_exporter": "python",
   "pygments_lexer": "ipython3",
   "version": "3.7.3"
  }
 },
 "nbformat": 4,
 "nbformat_minor": 2
}
